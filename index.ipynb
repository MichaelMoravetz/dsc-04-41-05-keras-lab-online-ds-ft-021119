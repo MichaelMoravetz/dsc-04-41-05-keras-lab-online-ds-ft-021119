{
 "cells": [
  {
   "cell_type": "markdown",
   "metadata": {},
   "source": [
    "# Keras - Lab\n",
    "\n",
    "## Introduction\n",
    "\n",
    "In this lab you'll once again build a neural network but this time with much less production time since we will be using Keras to do a lot of the heavy lifting building blocks which we coded from hand previously.  Our use case will be classifying Bank complaints.\n",
    "\n",
    "\n",
    "## Objectives\n",
    "\n",
    "You will be able to:\n",
    "* Build a neural network using Keras"
   ]
  },
  {
   "cell_type": "markdown",
   "metadata": {},
   "source": [
    "## Loading Required Packages\n",
    "\n",
    "Here we'll import all of the various packages that we'll use in this code along. We'll point out where these imports were used as they come up in the lab."
   ]
  },
  {
   "cell_type": "code",
   "execution_count": 1,
   "metadata": {
    "ExecuteTime": {
     "end_time": "2019-05-20T20:48:03.593388Z",
     "start_time": "2019-05-20T20:47:53.472699Z"
    }
   },
   "outputs": [
    {
     "name": "stderr",
     "output_type": "stream",
     "text": [
      "Using TensorFlow backend.\n"
     ]
    }
   ],
   "source": [
    "import matplotlib.pyplot as plt\n",
    "import pandas as pd\n",
    "import numpy as np\n",
    "import random\n",
    "from sklearn.model_selection import train_test_split\n",
    "from keras.utils.np_utils import to_categorical\n",
    "from sklearn import preprocessing\n",
    "from keras.preprocessing.text import Tokenizer\n",
    "from keras import models\n",
    "from keras import layers\n",
    "from keras import optimizers"
   ]
  },
  {
   "cell_type": "markdown",
   "metadata": {},
   "source": [
    "## Loading the data\n",
    "\n",
    "As usual, we will start our data science process by importing the data itself.  \n",
    "Load and preview as a pandas dataframe.   \n",
    "The data is stored in a file **Bank_complaints.csv**."
   ]
  },
  {
   "cell_type": "code",
   "execution_count": 3,
   "metadata": {
    "ExecuteTime": {
     "end_time": "2019-05-20T20:50:30.831145Z",
     "start_time": "2019-05-20T20:50:26.509542Z"
    }
   },
   "outputs": [
    {
     "data": {
      "text/html": [
       "<meta charset=\"UTF-8\">\n",
       "\n",
       "<style>\n",
       "\n",
       "        .variablerow {\n",
       "            border: 1px solid #e1e1e8;\n",
       "            border-top: hidden;\n",
       "            padding-top: 2em;\n",
       "            padding-bottom: 2em;\n",
       "            padding-left: 1em;\n",
       "            padding-right: 1em;\n",
       "        }\n",
       "\n",
       "        .headerrow {\n",
       "            border: 1px solid #e1e1e8;\n",
       "            background-color: #f5f5f5;\n",
       "            padding: 2em;\n",
       "        }\n",
       "        .namecol {\n",
       "            margin-top: -1em;\n",
       "            overflow-x: auto;\n",
       "        }\n",
       "\n",
       "        .dl-horizontal dt {\n",
       "            text-align: left;\n",
       "            padding-right: 1em;\n",
       "            white-space: normal;\n",
       "        }\n",
       "\n",
       "        .dl-horizontal dd {\n",
       "            margin-left: 0;\n",
       "        }\n",
       "\n",
       "        .ignore {\n",
       "            opacity: 0.4;\n",
       "        }\n",
       "\n",
       "        .container.pandas-profiling {\n",
       "            max-width:975px;\n",
       "        }\n",
       "\n",
       "        .col-md-12 {\n",
       "            padding-left: 2em;\n",
       "        }\n",
       "\n",
       "        .indent {\n",
       "            margin-left: 1em;\n",
       "        }\n",
       "\n",
       "        .center-img {\n",
       "            margin-left: auto !important;\n",
       "            margin-right: auto !important;\n",
       "            display: block;\n",
       "        }\n",
       "\n",
       "        /* Table example_values */\n",
       "            table.example_values {\n",
       "                border: 0;\n",
       "            }\n",
       "\n",
       "            .example_values th {\n",
       "                border: 0;\n",
       "                padding: 0 ;\n",
       "                color: #555;\n",
       "                font-weight: 600;\n",
       "            }\n",
       "\n",
       "            .example_values tr, .example_values td{\n",
       "                border: 0;\n",
       "                padding: 0;\n",
       "                color: #555;\n",
       "            }\n",
       "\n",
       "        /* STATS */\n",
       "            table.stats {\n",
       "                border: 0;\n",
       "            }\n",
       "\n",
       "            .stats th {\n",
       "                border: 0;\n",
       "                padding: 0 2em 0 0;\n",
       "                color: #555;\n",
       "                font-weight: 600;\n",
       "            }\n",
       "\n",
       "            .stats tr {\n",
       "                border: 0;\n",
       "            }\n",
       "\n",
       "            .stats td{\n",
       "                color: #555;\n",
       "                padding: 1px;\n",
       "                border: 0;\n",
       "            }\n",
       "\n",
       "\n",
       "        /* Sample table */\n",
       "            table.sample {\n",
       "                border: 0;\n",
       "                margin-bottom: 2em;\n",
       "                margin-left:1em;\n",
       "            }\n",
       "            .sample tr {\n",
       "                border:0;\n",
       "            }\n",
       "            .sample td, .sample th{\n",
       "                padding: 0.5em;\n",
       "                white-space: nowrap;\n",
       "                border: none;\n",
       "\n",
       "            }\n",
       "\n",
       "            .sample thead {\n",
       "                border-top: 0;\n",
       "                border-bottom: 2px solid #ddd;\n",
       "            }\n",
       "\n",
       "            .sample td {\n",
       "                width:100%;\n",
       "            }\n",
       "\n",
       "\n",
       "        /* There is no good solution available to make the divs equal height and then center ... */\n",
       "            .histogram {\n",
       "                margin-top: 3em;\n",
       "            }\n",
       "        /* Freq table */\n",
       "\n",
       "            table.freq {\n",
       "                margin-bottom: 2em;\n",
       "                border: 0;\n",
       "            }\n",
       "            table.freq th, table.freq tr, table.freq td {\n",
       "                border: 0;\n",
       "                padding: 0;\n",
       "            }\n",
       "\n",
       "            .freq thead {\n",
       "                font-weight: 600;\n",
       "                white-space: nowrap;\n",
       "                overflow: hidden;\n",
       "                text-overflow: ellipsis;\n",
       "\n",
       "            }\n",
       "\n",
       "            td.fillremaining{\n",
       "                width:auto;\n",
       "                max-width: none;\n",
       "            }\n",
       "\n",
       "            td.number, th.number {\n",
       "                text-align:right ;\n",
       "            }\n",
       "\n",
       "        /* Freq mini */\n",
       "            .freq.mini td{\n",
       "                width: 50%;\n",
       "                padding: 1px;\n",
       "                font-size: 12px;\n",
       "\n",
       "            }\n",
       "            table.freq.mini {\n",
       "                 width:100%;\n",
       "            }\n",
       "            .freq.mini th {\n",
       "                overflow: hidden;\n",
       "                text-overflow: ellipsis;\n",
       "                white-space: nowrap;\n",
       "                max-width: 5em;\n",
       "                font-weight: 400;\n",
       "                text-align:right;\n",
       "                padding-right: 0.5em;\n",
       "            }\n",
       "\n",
       "            .missing {\n",
       "                color: #a94442;\n",
       "            }\n",
       "            .alert, .alert > th, .alert > td {\n",
       "                color: #a94442;\n",
       "            }\n",
       "\n",
       "\n",
       "        /* Bars in tables */\n",
       "            .freq .bar{\n",
       "                float: left;\n",
       "                width: 0;\n",
       "                height: 100%;\n",
       "                line-height: 20px;\n",
       "                color: #fff;\n",
       "                text-align: center;\n",
       "                background-color: #337ab7;\n",
       "                border-radius: 3px;\n",
       "                margin-right: 4px;\n",
       "            }\n",
       "            .other .bar {\n",
       "                background-color: #999;\n",
       "            }\n",
       "            .missing .bar{\n",
       "                background-color: #a94442;\n",
       "            }\n",
       "            .tooltip-inner {\n",
       "                width: 100%;\n",
       "                white-space: nowrap;\n",
       "                text-align:left;\n",
       "            }\n",
       "\n",
       "            .extrapadding{\n",
       "                padding: 2em;\n",
       "            }\n",
       "\n",
       "            .pp-anchor{\n",
       "\n",
       "            }\n",
       "\n",
       "</style>\n",
       "\n",
       "<div class=\"container pandas-profiling\">\n",
       "    <div class=\"row headerrow highlight\">\n",
       "        <h1>Overview</h1>\n",
       "    </div>\n",
       "    <div class=\"row variablerow\">\n",
       "    <div class=\"col-md-6 namecol\">\n",
       "        <p class=\"h4\">Dataset info</p>\n",
       "        <table class=\"stats\" style=\"margin-left: 1em;\">\n",
       "            <tbody>\n",
       "            <tr>\n",
       "                <th>Number of variables</th>\n",
       "                <td>2 </td>\n",
       "            </tr>\n",
       "            <tr>\n",
       "                <th>Number of observations</th>\n",
       "                <td>60000 </td>\n",
       "            </tr>\n",
       "            <tr>\n",
       "                <th>Total Missing (%)</th>\n",
       "                <td>0.0% </td>\n",
       "            </tr>\n",
       "            <tr>\n",
       "                <th>Total size in memory</th>\n",
       "                <td>937.6 KiB </td>\n",
       "            </tr>\n",
       "            <tr>\n",
       "                <th>Average record size in memory</th>\n",
       "                <td>16.0 B </td>\n",
       "            </tr>\n",
       "            </tbody>\n",
       "        </table>\n",
       "    </div>\n",
       "    <div class=\"col-md-6 namecol\">\n",
       "        <p class=\"h4\">Variables types</p>\n",
       "        <table class=\"stats\" style=\"margin-left: 1em;\">\n",
       "            <tbody>\n",
       "            <tr>\n",
       "                <th>Numeric</th>\n",
       "                <td>0 </td>\n",
       "            </tr>\n",
       "            <tr>\n",
       "                <th>Categorical</th>\n",
       "                <td>2 </td>\n",
       "            </tr>\n",
       "            <tr>\n",
       "                <th>Boolean</th>\n",
       "                <td>0 </td>\n",
       "            </tr>\n",
       "            <tr>\n",
       "                <th>Date</th>\n",
       "                <td>0 </td>\n",
       "            </tr>\n",
       "            <tr>\n",
       "                <th>Text (Unique)</th>\n",
       "                <td>0 </td>\n",
       "            </tr>\n",
       "            <tr>\n",
       "                <th>Rejected</th>\n",
       "                <td>0 </td>\n",
       "            </tr>\n",
       "            <tr>\n",
       "                <th>Unsupported</th>\n",
       "                <td>0 </td>\n",
       "            </tr>\n",
       "            </tbody>\n",
       "        </table>\n",
       "    </div>\n",
       "    <div class=\"col-md-12\" style=\"padding-left: 1em;\">\n",
       "        \n",
       "        <p class=\"h4\">Warnings</p>\n",
       "        <ul class=\"list-unstyled\"><li><a href=\"#pp_var_Consumer complaint narrative\"><code>Consumer complaint narrative</code></a> has a high cardinality: 59724 distinct values  <span class=\"label label-warning\">Warning</span></li><li>Dataset has 265 duplicate rows <span class=\"label label-warning\">Warning</span></li> </ul>\n",
       "    </div>\n",
       "</div>\n",
       "    <div class=\"row headerrow highlight\">\n",
       "        <h1>Variables</h1>\n",
       "    </div>\n",
       "    <div class=\"row variablerow\">\n",
       "    <div class=\"col-md-3 namecol\">\n",
       "        <p class=\"h4 pp-anchor\" id=\"pp_var_Consumer complaint narrative\">Consumer complaint narrative<br/>\n",
       "            <small>Categorical</small>\n",
       "        </p>\n",
       "    </div><div class=\"col-md-3\">\n",
       "    <table class=\"stats \">\n",
       "        <tr class=\"alert\">\n",
       "            <th>Distinct count</th>\n",
       "            <td>59724</td>\n",
       "        </tr>\n",
       "        <tr>\n",
       "            <th>Unique (%)</th>\n",
       "            <td>99.5%</td>\n",
       "        </tr>\n",
       "        <tr class=\"ignore\">\n",
       "            <th>Missing (%)</th>\n",
       "            <td>0.0%</td>\n",
       "        </tr>\n",
       "        <tr class=\"ignore\">\n",
       "            <th>Missing (n)</th>\n",
       "            <td>0</td>\n",
       "        </tr>\n",
       "    </table>\n",
       "</div>\n",
       "<div class=\"col-md-6 collapse in\" id=\"minifreqtable9042322125684112290\">\n",
       "    <table class=\"mini freq\">\n",
       "        <tr class=\"\">\n",
       "    <th>I am filing this complaint because Experian has ignored my request to provide me with the documents that their company has on file that was used to verify the accounts I disputed. Being that they have gone past the 30 day mark and can not verify these accounts, under Section 611 ( 5 ) ( A ) of the FCRA - they are required to \" ... promptly delete all information which can not be verified '' that I have disputed. Please resolve this manner as soon as possible. Thank you.</th>\n",
       "    <td>\n",
       "        <div class=\"bar\" style=\"width:1%\" data-toggle=\"tooltip\" data-placement=\"right\" data-html=\"true\"\n",
       "             data-delay=500 title=\"Percentage: 0.0%\">\n",
       "            &nbsp;\n",
       "        </div>\n",
       "        26\n",
       "    </td>\n",
       "</tr><tr class=\"\">\n",
       "    <th>I am filing this complaint because TransUnion has ignored my request to provide me with the documents that their company has on file that was used to verify the accounts I disputed. Being that they have gone past the 30 day mark and can not verify these accounts, under Section 611 ( 5 ) ( A ) of the FCRA - they are required to \" ... promptly delete all information which can not be verified '' that I have disputed. Please resolve this manner as soon as possible. Thank you.</th>\n",
       "    <td>\n",
       "        <div class=\"bar\" style=\"width:1%\" data-toggle=\"tooltip\" data-placement=\"right\" data-html=\"true\"\n",
       "             data-delay=500 title=\"Percentage: 0.0%\">\n",
       "            &nbsp;\n",
       "        </div>\n",
       "        11\n",
       "    </td>\n",
       "</tr><tr class=\"\">\n",
       "    <th>I am filing this complaint because Equifax has ignored my request to provide me with the documents that their company has on file that was used to verify the accounts I disputed. Being that they have gone past the 30 day mark and can not verify these accounts, under Section 611 ( 5 ) ( A ) of the FCRA - they are required to \" ... promptly delete all information which can not be verified '' that I have disputed. Please resolve this manner as soon as possible. Thank you.</th>\n",
       "    <td>\n",
       "        <div class=\"bar\" style=\"width:1%\" data-toggle=\"tooltip\" data-placement=\"right\" data-html=\"true\"\n",
       "             data-delay=500 title=\"Percentage: 0.0%\">\n",
       "            &nbsp;\n",
       "        </div>\n",
       "        9\n",
       "    </td>\n",
       "</tr><tr class=\"other\">\n",
       "    <th>Other values (59721)</th>\n",
       "    <td>\n",
       "        <div class=\"bar\" style=\"width:100%\" data-toggle=\"tooltip\" data-placement=\"right\" data-html=\"true\"\n",
       "             data-delay=500 title=\"Percentage: 99.9%\">\n",
       "            59954\n",
       "        </div>\n",
       "        \n",
       "    </td>\n",
       "</tr>\n",
       "    </table>\n",
       "</div>\n",
       "<div class=\"col-md-12 text-right\">\n",
       "    <a role=\"button\" data-toggle=\"collapse\" data-target=\"#freqtable9042322125684112290, #minifreqtable9042322125684112290\"\n",
       "       aria-expanded=\"true\" aria-controls=\"collapseExample\">\n",
       "        Toggle details\n",
       "    </a>\n",
       "</div>\n",
       "<div class=\"col-md-12 extrapadding collapse\" id=\"freqtable9042322125684112290\">\n",
       "    \n",
       "<table class=\"freq table table-hover\">\n",
       "    <thead>\n",
       "    <tr>\n",
       "        <td class=\"fillremaining\">Value</td>\n",
       "        <td class=\"number\">Count</td>\n",
       "        <td class=\"number\">Frequency (%)</td>\n",
       "        <td style=\"min-width:200px\">&nbsp;</td>\n",
       "    </tr>\n",
       "    </thead>\n",
       "    <tr class=\"\">\n",
       "        <td class=\"fillremaining\">I am filing this complaint because Experian has ignored my request to provide me with the documents that their company has on file that was used to verify the accounts I disputed. Being that they have gone past the 30 day mark and can not verify these accounts, under Section 611 ( 5 ) ( A ) of the FCRA - they are required to \" ... promptly delete all information which can not be verified '' that I have disputed. Please resolve this manner as soon as possible. Thank you.</td>\n",
       "        <td class=\"number\">26</td>\n",
       "        <td class=\"number\">0.0%</td>\n",
       "        <td>\n",
       "            <div class=\"bar\" style=\"width:1%\">&nbsp;</div>\n",
       "        </td>\n",
       "</tr><tr class=\"\">\n",
       "        <td class=\"fillremaining\">I am filing this complaint because TransUnion has ignored my request to provide me with the documents that their company has on file that was used to verify the accounts I disputed. Being that they have gone past the 30 day mark and can not verify these accounts, under Section 611 ( 5 ) ( A ) of the FCRA - they are required to \" ... promptly delete all information which can not be verified '' that I have disputed. Please resolve this manner as soon as possible. Thank you.</td>\n",
       "        <td class=\"number\">11</td>\n",
       "        <td class=\"number\">0.0%</td>\n",
       "        <td>\n",
       "            <div class=\"bar\" style=\"width:1%\">&nbsp;</div>\n",
       "        </td>\n",
       "</tr><tr class=\"\">\n",
       "        <td class=\"fillremaining\">I am filing this complaint because Equifax has ignored my request to provide me with the documents that their company has on file that was used to verify the accounts I disputed. Being that they have gone past the 30 day mark and can not verify these accounts, under Section 611 ( 5 ) ( A ) of the FCRA - they are required to \" ... promptly delete all information which can not be verified '' that I have disputed. Please resolve this manner as soon as possible. Thank you.</td>\n",
       "        <td class=\"number\">9</td>\n",
       "        <td class=\"number\">0.0%</td>\n",
       "        <td>\n",
       "            <div class=\"bar\" style=\"width:1%\">&nbsp;</div>\n",
       "        </td>\n",
       "</tr><tr class=\"\">\n",
       "        <td class=\"fillremaining\">My name is XXXX XXXX and I 'm a victim of Identity theft, Ive attached my FTC identity theft report. I believe that my accounts have been used fraudulently in the past and currently. Can you please check to see if any personal or business accounts are open under my social security number or have been open in the past. if so, can you please close the account and send every single statement to my address XXXX XXXX XXXX XXXX XXXX XXXX XXXX, FL XXXX XXXX XXXX XXXX XXXX XXXX XXXX XXXX, FL XXXX SSN # XXXX</td>\n",
       "        <td class=\"number\">8</td>\n",
       "        <td class=\"number\">0.0%</td>\n",
       "        <td>\n",
       "            <div class=\"bar\" style=\"width:1%\">&nbsp;</div>\n",
       "        </td>\n",
       "</tr><tr class=\"\">\n",
       "        <td class=\"fillremaining\">I filed a complaint stating that the Public Record Information was inaccurate in its filing. As the term \" Dismissed '' means that it is adjudicated by the law. My case concern no form of solvency, nothing was placed under conservancy, examinership, liquidation or provisional debt reconstruction. There were no exemptions, no surrender of any kind as stated within the regulations of the BAPCPA \" Means Test ''. The credit bureaus have retrieve my information from a third party entity without my authorization, therefore holding my identity and credit under \" Consumer Lock '' for 10 years. The Bankruptcy Court has confirmed that they did not verify by documentation and the credit agencies have stated I can no longer challenge this negative entry. This discrepancy has prevented me in my personal life 's pursuit. Please advocate for me in this challenge.</td>\n",
       "        <td class=\"number\">7</td>\n",
       "        <td class=\"number\">0.0%</td>\n",
       "        <td>\n",
       "            <div class=\"bar\" style=\"width:1%\">&nbsp;</div>\n",
       "        </td>\n",
       "</tr><tr class=\"\">\n",
       "        <td class=\"fillremaining\">I am filing this complaint because Equifax has ignored my request to open investigation in regards to accounts listed on my credit report. Being that they have gone past the 30 day mark and confirmation shows they have received my dispute over 30+ days ago, under Section 611 ( 5 ) ( A ) of the FCRA XXXX they are required to \" ... promptly delete all information which can not be verified '' that I have disputed. Please resolve this manner as soon as possible. Thank you.</td>\n",
       "        <td class=\"number\">6</td>\n",
       "        <td class=\"number\">0.0%</td>\n",
       "        <td>\n",
       "            <div class=\"bar\" style=\"width:1%\">&nbsp;</div>\n",
       "        </td>\n",
       "</tr><tr class=\"\">\n",
       "        <td class=\"fillremaining\">This account is reported in to XXXX, XXXX and XXXX. The account is being reported to have a derogatory rating which is very troubling to me! I am concerned about my credit because I was recently denied a loan and my existing credit accounts have increased my interest rates. This negative rating has caused me serious financial distress and will continue to cause me financial and emotional distress until this issue is resolved. \n",
       "\n",
       "In researching my legal rights, I have found several items that I understand I am entitled to. In order to rectify this situation and ensure my rights have not been violated in any way under the various consumer protection laws, I must hereby formally demand and information request!</td>\n",
       "        <td class=\"number\">5</td>\n",
       "        <td class=\"number\">0.0%</td>\n",
       "        <td>\n",
       "            <div class=\"bar\" style=\"width:1%\">&nbsp;</div>\n",
       "        </td>\n",
       "</tr><tr class=\"\">\n",
       "        <td class=\"fillremaining\">I have sent several requests to Experian requesting an investigation of my accounts. It has been months and I still have not received a response to my concerns. The only thing I have received is some automated rejection letter stating that they wo n't do anything to help me ( please see attached ). \n",
       "This has to be a violation of my rights. I feel like I 've already wasted so much time just trying to get Experian to look at the errors on my credit report and I 'm so frustrated that Experian is intentionally not responding to my inquiries. I need to have this issue resolved immediately. There are many things I need to do with my life and they all involve my credit. But I am not able to move forward all because of this credit bureau!</td>\n",
       "        <td class=\"number\">5</td>\n",
       "        <td class=\"number\">0.0%</td>\n",
       "        <td>\n",
       "            <div class=\"bar\" style=\"width:1%\">&nbsp;</div>\n",
       "        </td>\n",
       "</tr><tr class=\"\">\n",
       "        <td class=\"fillremaining\">I am filing this complaint because I think what Experian is doing to me is wrong, unethical and may be against the law. A letter was mailed to Experian on or around [ XXXX/XXXX/15 ]. \n",
       "I clearly stated my concerns to them regarding inaccurate, questionable or unverifiable information listed on my credit report. I also provided a clear copy of my ID, proof of my social security number and a proof of my current mailing address. \n",
       "On [ XXXX/XXXX/15 ] I received a notice from Experian stating the following : '' We received a suspicious request in the mail regarding your personal credit report and determined that it was not sent by you. Suspicious requests are reviewed by Experian security personnel who work regularly with law enforcement officials and regulatory agencies to identify fraudulent and deceptive correspondence purporting to originate from consumers. \n",
       "In an effort to safeguard your personal credit information from fraud, we will not be initiating any disputes based on the suspicious correspondence. \n",
       "Experian will apply this same policy to any future suspicious requests that we receive regarding your personal credit information, but we will not send additional notices to you of suspicious correspondence. \n",
       "If you believe that information in your personal credit report is inaccurate or incomplete, please visit our website at experian.com/validate dispute or call us at XXXX ( XXXX ) XXXX to speak directly to an Experian consumer assistance representative. \" However, an Experian confirmation number was not even provided on this notice. I can not imagine what could have possibly been \" suspicious '' about my correspondence to Experian. I should not have to spend endless hours on phone calling the credit bureau back and forth attempting to resolve the issues on my credit report! I am filing this complaint because Experian will not respond to any letters that I am sending in. I 'm sure this could be a violation of my rights and Experian should not be deliberately disregarding my concerns!</td>\n",
       "        <td class=\"number\">5</td>\n",
       "        <td class=\"number\">0.0%</td>\n",
       "        <td>\n",
       "            <div class=\"bar\" style=\"width:1%\">&nbsp;</div>\n",
       "        </td>\n",
       "</tr><tr class=\"\">\n",
       "        <td class=\"fillremaining\">I have been a victim of Identity Theft. I have been trying to work with the Credit Reporting Agency but they are refusing to honor my valid identity theft case thus these incorrect/fraudulent items are still on my credit report and they must be removed immediately but they are do not belong to me. I have provided all of the proof to show that I was a victim of Identity Theft and that to the best of my knowledge these fraudulent accounts do not belong to me. Please take immediate action on my behalf so I can have these items removed, deleted and permanently blocked from my credit report, so that I can get back on track to a normal life. \n",
       "\n",
       "Regards</td>\n",
       "        <td class=\"number\">5</td>\n",
       "        <td class=\"number\">0.0%</td>\n",
       "        <td>\n",
       "            <div class=\"bar\" style=\"width:1%\">&nbsp;</div>\n",
       "        </td>\n",
       "</tr><tr class=\"other\">\n",
       "        <td class=\"fillremaining\">Other values (59714)</td>\n",
       "        <td class=\"number\">59913</td>\n",
       "        <td class=\"number\">99.9%</td>\n",
       "        <td>\n",
       "            <div class=\"bar\" style=\"width:100%\">&nbsp;</div>\n",
       "        </td>\n",
       "</tr>\n",
       "</table>\n",
       "</div>\n",
       "</div><div class=\"row variablerow\">\n",
       "    <div class=\"col-md-3 namecol\">\n",
       "        <p class=\"h4 pp-anchor\" id=\"pp_var_Product\">Product<br/>\n",
       "            <small>Categorical</small>\n",
       "        </p>\n",
       "    </div><div class=\"col-md-3\">\n",
       "    <table class=\"stats \">\n",
       "        <tr class=\"\">\n",
       "            <th>Distinct count</th>\n",
       "            <td>7</td>\n",
       "        </tr>\n",
       "        <tr>\n",
       "            <th>Unique (%)</th>\n",
       "            <td>0.0%</td>\n",
       "        </tr>\n",
       "        <tr class=\"ignore\">\n",
       "            <th>Missing (%)</th>\n",
       "            <td>0.0%</td>\n",
       "        </tr>\n",
       "        <tr class=\"ignore\">\n",
       "            <th>Missing (n)</th>\n",
       "            <td>0</td>\n",
       "        </tr>\n",
       "    </table>\n",
       "</div>\n",
       "<div class=\"col-md-6 collapse in\" id=\"minifreqtable-4762141550224831766\">\n",
       "    <table class=\"mini freq\">\n",
       "        <tr class=\"\">\n",
       "    <th>Student loan</th>\n",
       "    <td>\n",
       "        <div class=\"bar\" style=\"width:39%\" data-toggle=\"tooltip\" data-placement=\"right\" data-html=\"true\"\n",
       "             data-delay=500 title=\"Percentage: 19.0%\">\n",
       "            11404\n",
       "        </div>\n",
       "        \n",
       "    </td>\n",
       "</tr><tr class=\"\">\n",
       "    <th>Credit card</th>\n",
       "    <td>\n",
       "        <div class=\"bar\" style=\"width:32%\" data-toggle=\"tooltip\" data-placement=\"right\" data-html=\"true\"\n",
       "             data-delay=500 title=\"Percentage: 15.9%\">\n",
       "            9540\n",
       "        </div>\n",
       "        \n",
       "    </td>\n",
       "</tr><tr class=\"\">\n",
       "    <th>Consumer Loan</th>\n",
       "    <td>\n",
       "        <div class=\"bar\" style=\"width:32%\" data-toggle=\"tooltip\" data-placement=\"right\" data-html=\"true\"\n",
       "             data-delay=500 title=\"Percentage: 15.8%\">\n",
       "            9474\n",
       "        </div>\n",
       "        \n",
       "    </td>\n",
       "</tr><tr class=\"other\">\n",
       "    <th>Other values (4)</th>\n",
       "    <td>\n",
       "        <div class=\"bar\" style=\"width:100%\" data-toggle=\"tooltip\" data-placement=\"right\" data-html=\"true\"\n",
       "             data-delay=500 title=\"Percentage: 49.3%\">\n",
       "            29582\n",
       "        </div>\n",
       "        \n",
       "    </td>\n",
       "</tr>\n",
       "    </table>\n",
       "</div>\n",
       "<div class=\"col-md-12 text-right\">\n",
       "    <a role=\"button\" data-toggle=\"collapse\" data-target=\"#freqtable-4762141550224831766, #minifreqtable-4762141550224831766\"\n",
       "       aria-expanded=\"true\" aria-controls=\"collapseExample\">\n",
       "        Toggle details\n",
       "    </a>\n",
       "</div>\n",
       "<div class=\"col-md-12 extrapadding collapse\" id=\"freqtable-4762141550224831766\">\n",
       "    \n",
       "<table class=\"freq table table-hover\">\n",
       "    <thead>\n",
       "    <tr>\n",
       "        <td class=\"fillremaining\">Value</td>\n",
       "        <td class=\"number\">Count</td>\n",
       "        <td class=\"number\">Frequency (%)</td>\n",
       "        <td style=\"min-width:200px\">&nbsp;</td>\n",
       "    </tr>\n",
       "    </thead>\n",
       "    <tr class=\"\">\n",
       "        <td class=\"fillremaining\">Student loan</td>\n",
       "        <td class=\"number\">11404</td>\n",
       "        <td class=\"number\">19.0%</td>\n",
       "        <td>\n",
       "            <div class=\"bar\" style=\"width:100%\">&nbsp;</div>\n",
       "        </td>\n",
       "</tr><tr class=\"\">\n",
       "        <td class=\"fillremaining\">Credit card</td>\n",
       "        <td class=\"number\">9540</td>\n",
       "        <td class=\"number\">15.9%</td>\n",
       "        <td>\n",
       "            <div class=\"bar\" style=\"width:83%\">&nbsp;</div>\n",
       "        </td>\n",
       "</tr><tr class=\"\">\n",
       "        <td class=\"fillremaining\">Consumer Loan</td>\n",
       "        <td class=\"number\">9474</td>\n",
       "        <td class=\"number\">15.8%</td>\n",
       "        <td>\n",
       "            <div class=\"bar\" style=\"width:83%\">&nbsp;</div>\n",
       "        </td>\n",
       "</tr><tr class=\"\">\n",
       "        <td class=\"fillremaining\">Mortgage</td>\n",
       "        <td class=\"number\">8332</td>\n",
       "        <td class=\"number\">13.9%</td>\n",
       "        <td>\n",
       "            <div class=\"bar\" style=\"width:73%\">&nbsp;</div>\n",
       "        </td>\n",
       "</tr><tr class=\"\">\n",
       "        <td class=\"fillremaining\">Bank account or service</td>\n",
       "        <td class=\"number\">8309</td>\n",
       "        <td class=\"number\">13.8%</td>\n",
       "        <td>\n",
       "            <div class=\"bar\" style=\"width:73%\">&nbsp;</div>\n",
       "        </td>\n",
       "</tr><tr class=\"\">\n",
       "        <td class=\"fillremaining\">Credit reporting</td>\n",
       "        <td class=\"number\">6864</td>\n",
       "        <td class=\"number\">11.4%</td>\n",
       "        <td>\n",
       "            <div class=\"bar\" style=\"width:60%\">&nbsp;</div>\n",
       "        </td>\n",
       "</tr><tr class=\"\">\n",
       "        <td class=\"fillremaining\">Checking or savings account</td>\n",
       "        <td class=\"number\">6077</td>\n",
       "        <td class=\"number\">10.1%</td>\n",
       "        <td>\n",
       "            <div class=\"bar\" style=\"width:53%\">&nbsp;</div>\n",
       "        </td>\n",
       "</tr>\n",
       "</table>\n",
       "</div>\n",
       "</div>\n",
       "    <div class=\"row headerrow highlight\">\n",
       "        <h1>Correlations</h1>\n",
       "    </div>\n",
       "    \n",
       "    <div class=\"row headerrow highlight\">\n",
       "        <h1>Sample</h1>\n",
       "    </div>\n",
       "    <div class=\"row variablerow\">\n",
       "    <div class=\"col-md-12\" style=\"overflow:scroll; width: 100%%; overflow-y: hidden;\">\n",
       "        <table border=\"1\" class=\"dataframe sample\">\n",
       "  <thead>\n",
       "    <tr style=\"text-align: right;\">\n",
       "      <th></th>\n",
       "      <th>Product</th>\n",
       "      <th>Consumer complaint narrative</th>\n",
       "    </tr>\n",
       "  </thead>\n",
       "  <tbody>\n",
       "    <tr>\n",
       "      <th>0</th>\n",
       "      <td>Student loan</td>\n",
       "      <td>In XX/XX/XXXX I filled out the Fedlaon applica...</td>\n",
       "    </tr>\n",
       "    <tr>\n",
       "      <th>1</th>\n",
       "      <td>Student loan</td>\n",
       "      <td>I am being contacted by a debt collector for p...</td>\n",
       "    </tr>\n",
       "    <tr>\n",
       "      <th>2</th>\n",
       "      <td>Student loan</td>\n",
       "      <td>I cosigned XXXX student loans at SallieMae for...</td>\n",
       "    </tr>\n",
       "    <tr>\n",
       "      <th>3</th>\n",
       "      <td>Student loan</td>\n",
       "      <td>Navient has sytematically and illegally failed...</td>\n",
       "    </tr>\n",
       "    <tr>\n",
       "      <th>4</th>\n",
       "      <td>Student loan</td>\n",
       "      <td>My wife became eligible for XXXX Loan Forgiven...</td>\n",
       "    </tr>\n",
       "  </tbody>\n",
       "</table>\n",
       "    </div>\n",
       "</div>\n",
       "</div>"
      ],
      "text/plain": [
       "<pandas_profiling.ProfileReport at 0x1078ff0b8>"
      ]
     },
     "metadata": {},
     "output_type": "display_data"
    }
   ],
   "source": [
    "#Your code here\n",
    "from pandas_profiling import ProfileReport\n",
    "df = pd.read_csv('Bank_complaints.csv')\n",
    "report = ProfileReport(df)\n",
    "display(report)"
   ]
  },
  {
   "cell_type": "markdown",
   "metadata": {},
   "source": [
    "## Further Preview of the Categories\n",
    "\n",
    "As we said, our task here is to categorize banking complaints into various predefined categories. Preview what these categories are and what percent of the complaints each accounts for."
   ]
  },
  {
   "cell_type": "code",
   "execution_count": 4,
   "metadata": {
    "ExecuteTime": {
     "end_time": "2019-05-20T20:53:04.638733Z",
     "start_time": "2019-05-20T20:53:04.579900Z"
    }
   },
   "outputs": [
    {
     "data": {
      "text/plain": [
       "Student loan                   0.190067\n",
       "Credit card                    0.159000\n",
       "Consumer Loan                  0.157900\n",
       "Mortgage                       0.138867\n",
       "Bank account or service        0.138483\n",
       "Credit reporting               0.114400\n",
       "Checking or savings account    0.101283\n",
       "Name: Product, dtype: float64"
      ]
     },
     "execution_count": 4,
     "metadata": {},
     "output_type": "execute_result"
    }
   ],
   "source": [
    "df.Product.value_counts(normalize=True)"
   ]
  },
  {
   "cell_type": "markdown",
   "metadata": {},
   "source": [
    "## Preprocessing\n",
    "\n",
    "Before we build our neural network, we need to do several preprocessing steps. First, we will create word vector counts (a bag of words type representation) of our complaints text. Next, we will change the category labels to integers. Finally, we will perform our usual train-test split before building and training our neural network using Keras. With that, let's start munging our data!"
   ]
  },
  {
   "cell_type": "markdown",
   "metadata": {},
   "source": [
    "## One-hot encoding of the complaints\n",
    "\n",
    "Our first step again is to transform our textual data into a numerical representation. As we've started to see in some of our previous lessons on NLP, there are many ways to do this. Here, we'll use the `Tokenizer` method from the `preprocessing` module of the Keras package.   \n",
    "\n",
    "As with our previous work using NLTK, this will transform our text complaints into word vectors. (Note that the method of creating a vector is different from our previous work with NLTK; as you'll see, word order will be preserved as oppossed to a bag of words representation. In the below code, we'll only keep the 2,000 most common words and use one-hot encoding.\n",
    "\n",
    "Note that the code block below takes advantage of the following package import from our first code cell above.  \n",
    "`from keras.preprocessing.text import Tokenizer`"
   ]
  },
  {
   "cell_type": "code",
   "execution_count": 5,
   "metadata": {
    "ExecuteTime": {
     "end_time": "2019-05-20T20:53:49.471433Z",
     "start_time": "2019-05-20T20:53:49.375662Z"
    }
   },
   "outputs": [],
   "source": [
    "#As a quick preliminary, briefly review the docstring for the Keras.preprocessing.text.Tokenizer method:\n",
    "Tokenizer?"
   ]
  },
  {
   "cell_type": "code",
   "execution_count": 6,
   "metadata": {
    "ExecuteTime": {
     "end_time": "2019-05-20T20:58:14.006246Z",
     "start_time": "2019-05-20T20:56:33.947997Z"
    }
   },
   "outputs": [
    {
     "name": "stdout",
     "output_type": "stream",
     "text": [
      "sequences type: <class 'list'>\n",
      "one_hot_results type: <class 'numpy.ndarray'>\n",
      "Found 50110 unique tokens.\n",
      "Dimensions of our coded results: (60000, 2000)\n"
     ]
    }
   ],
   "source": [
    "#Now onto the actual code recipe...\n",
    "complaints = df[\"Consumer complaint narrative\"] #Our raw text complaints\n",
    "\n",
    "tokenizer = Tokenizer(num_words=2000) #Initialize a tokenizer.\n",
    "\n",
    "tokenizer.fit_on_texts(complaints) #Fit it to the complaints\n",
    "\n",
    "sequences = tokenizer.texts_to_sequences(complaints) #Generate sequences\n",
    "print('sequences type:', type(sequences))\n",
    "\n",
    "one_hot_results= tokenizer.texts_to_matrix(complaints, mode='binary') #Similar to sequences, but returns a numpy array\n",
    "print('one_hot_results type:', type(one_hot_results))\n",
    "\n",
    "word_index = tokenizer.word_index #Useful if we wish to decode (more explanation below)\n",
    "\n",
    "print('Found %s unique tokens.' % len(word_index)) #Tokens are the number of unique words across the corpus\n",
    "\n",
    "\n",
    "print('Dimensions of our coded results:', np.shape(one_hot_results)) #Our coded data"
   ]
  },
  {
   "cell_type": "markdown",
   "metadata": {},
   "source": [
    "## Decoding our Word Vectors\n",
    "As a note, you can also decode these vectorized representations of the reviews. The `word_index` variable, defined above, stores the mapping from the label number to the actual word. Somewhat tediously, we can turn this dictionary inside out and map it back to our word vectors, giving us roughly the original complaint back. (As you'll see, the text won't be identical as we limited ourselves to 200 words.)"
   ]
  },
  {
   "cell_type": "markdown",
   "metadata": {},
   "source": [
    "## Python Review / Mini Challenge\n",
    "\n",
    "While a bit tangential to our main topic of interest, we need to reverse our current dictionary `word_index` which maps words from our corpus to integers. In decoding our one_hot_results, we will need to create a dictionary of these integers to the original words. Below, take the `word_index` dictionary object and change the orientation so that the values are keys and the keys values. In other words, you are transforming something of the form {A:1, B:2, C:3} to {1:A, 2:B, 3:C}"
   ]
  },
  {
   "cell_type": "code",
   "execution_count": 9,
   "metadata": {
    "ExecuteTime": {
     "end_time": "2019-05-20T21:02:51.366110Z",
     "start_time": "2019-05-20T21:02:51.342543Z"
    }
   },
   "outputs": [],
   "source": [
    "#Your code here\n",
    "reverse_index = {v:k for k, v in word_index.items()}"
   ]
  },
  {
   "cell_type": "markdown",
   "metadata": {},
   "source": [
    "## Back to Decoding Our Word Vectors..."
   ]
  },
  {
   "cell_type": "code",
   "execution_count": 10,
   "metadata": {
    "ExecuteTime": {
     "end_time": "2019-05-20T21:03:44.844303Z",
     "start_time": "2019-05-20T21:03:44.812574Z"
    }
   },
   "outputs": [
    {
     "name": "stdout",
     "output_type": "stream",
     "text": [
      "Original complaint text:\n",
      "I have already filed several complaints about AES/PHEAA. I was notified by a XXXX XXXX let @ XXXX, who pretended to be from your office, he said he was from CFPB. I found out this morning he is n't from your office, but is actually works at XXXX. \n",
      "\n",
      "This has wasted weeks of my time. They AES/PHEAA confirmed and admitted ( see attached transcript of XXXX, conversation at XXXX ( XXXX ) with XXXX that proves they verified the loans are not mine ) the student loans they had XXXX, and collected on, and reported negate credit reporting in my name are in fact, not mine. \n",
      "They conclued their investigation on XXXX admitting they made a mistake and have my name on soneone elses loans. I these XXXX loans total {$10000.00}, original amount. My XXXX loans I got was total {$3500.00}. We proved by providing AES/PHEAA, this with my original promissary notes I located recently, the XXXX of my college provided AES/PHEAA with their original shoeinf amounts of my XXXX loans which show different dates and amounts, the dates and amounts are not even close to matching these loans they have in my name, The original lender, XXXX XXXX Bank notifying AES/PHEAA, they never issued me a student loan, and original Loan Guarantor, XXXX, notifying AES/PHEAA, they never were guarantor of my loans. \n",
      "\n",
      "XXXX straight forward. But today, this person, XXXX XXXX, told me they know these loans are not mine, and they refuse to remove my name off these XXXX loan 's and correct their mistake, essentially forcing me to pay these loans off, bucause in XXXX they sold the loans to XXXX loans. \n",
      "\n",
      "This is absurd, first protruding to be this office, and then refusing to correct their mistake. \n",
      "\n",
      "Please for the love of XXXX will soneone from your office call me at XXXX, today. I am a XXXX vet and they are knowingly discriminating against me. \n",
      "Pretending to be you.\n",
      "\n",
      "\n",
      "\n",
      "Decoded review from Tokenizer:\n",
      "i have already filed several complaints about aes i was notified by a xxxx xxxx let xxxx who to be from your office he said he was from cfpb i found out this morning he is n't from your office but is actually works at xxxx this has weeks of my time they aes confirmed and admitted see attached of xxxx conversation at xxxx xxxx with xxxx that they verified the loans are not mine the student loans they had xxxx and on and reported credit reporting in my name are in fact not mine they their investigation on xxxx they made a mistake and have my name on loans i these xxxx loans total 10000 00 original amount my xxxx loans i got was total 00 we by providing aes this with my original notes i located recently the xxxx of my college provided aes with their original amounts of my xxxx loans which show different dates and amounts the dates and amounts are not even close to these loans they have in my name the original lender xxxx xxxx bank notifying aes they never issued me a student loan and original loan xxxx notifying aes they never were of my loans xxxx forward but today this person xxxx xxxx told me they know these loans are not mine and they refuse to remove my name off these xxxx loan 's and correct their mistake essentially me to pay these loans off in xxxx they sold the loans to xxxx loans this is first to be this office and then refusing to correct their mistake please for the of xxxx will from your office call me at xxxx today i am a xxxx and they are against me to be you\n"
     ]
    }
   ],
   "source": [
    "comment_idx_to_preview = 19\n",
    "print('Original complaint text:')\n",
    "print(complaints[comment_idx_to_preview])\n",
    "print('\\n\\n')\n",
    "\n",
    "#The reverse_index cell block above must be complete in order for this cell block to successively execute.\n",
    "decoded_review = ' '.join([reverse_index.get(i) for i in sequences[comment_idx_to_preview]])\n",
    "print('Decoded review from Tokenizer:')\n",
    "print(decoded_review)"
   ]
  },
  {
   "cell_type": "markdown",
   "metadata": {},
   "source": [
    "## Convert the Products to Numerical Categories\n",
    "\n",
    "On to step two of our preprocessing: converting our descriptive categories into integers."
   ]
  },
  {
   "cell_type": "code",
   "execution_count": 11,
   "metadata": {
    "ExecuteTime": {
     "end_time": "2019-05-20T21:06:39.190501Z",
     "start_time": "2019-05-20T21:06:39.066325Z"
    }
   },
   "outputs": [
    {
     "name": "stdout",
     "output_type": "stream",
     "text": [
      "Original class labels:\n",
      "['Bank account or service', 'Checking or savings account', 'Consumer Loan', 'Credit card', 'Credit reporting', 'Mortgage', 'Student loan']\n",
      "\n",
      "\n",
      "New product labels:\n",
      "[6 6 6 ... 4 4 4]\n",
      "\n",
      "\n",
      "One hot labels; 7 binary columns, one for each of the categories.\n",
      "[[0. 0. 0. ... 0. 0. 1.]\n",
      " [0. 0. 0. ... 0. 0. 1.]\n",
      " [0. 0. 0. ... 0. 0. 1.]\n",
      " ...\n",
      " [0. 0. 0. ... 1. 0. 0.]\n",
      " [0. 0. 0. ... 1. 0. 0.]\n",
      " [0. 0. 0. ... 1. 0. 0.]]\n",
      "\n",
      "\n",
      "One hot labels shape:\n",
      "(60000, 7)\n"
     ]
    }
   ],
   "source": [
    "product = df[\"Product\"]\n",
    "\n",
    "le = preprocessing.LabelEncoder() #Initialize. le used as abbreviation fo label encoder\n",
    "le.fit(product)\n",
    "print(\"Original class labels:\")\n",
    "print(list(le.classes_))\n",
    "print('\\n')\n",
    "product_cat = le.transform(product)  \n",
    "#list(le.inverse_transform([0, 1, 3, 3, 0, 6, 4])) #If you wish to retrieve the original descriptive labels post production\n",
    "\n",
    "print('New product labels:')\n",
    "print(product_cat)\n",
    "print('\\n')\n",
    "\n",
    "\n",
    "print('One hot labels; 7 binary columns, one for each of the categories.') #Each row will be all zeros except for the category for that observation.\n",
    "product_onehot = to_categorical(product_cat)\n",
    "print(product_onehot)\n",
    "print('\\n')\n",
    "\n",
    "print('One hot labels shape:')\n",
    "print(np.shape(product_onehot))"
   ]
  },
  {
   "cell_type": "markdown",
   "metadata": {},
   "source": [
    "## Train - test split\n",
    "\n",
    "Now for our final preprocessing step: the usual train-test split."
   ]
  },
  {
   "cell_type": "code",
   "execution_count": 12,
   "metadata": {
    "ExecuteTime": {
     "end_time": "2019-05-20T21:07:17.655550Z",
     "start_time": "2019-05-20T21:07:13.459808Z"
    }
   },
   "outputs": [
    {
     "name": "stdout",
     "output_type": "stream",
     "text": [
      "Test label shape: (1500, 7)\n",
      "Train label shape: (58500, 7)\n",
      "Test shape: (1500, 2000)\n",
      "Train shape: (58500, 2000)\n"
     ]
    }
   ],
   "source": [
    "import random\n",
    "random.seed(123)\n",
    "test_index = random.sample(range(1,10000), 1500)\n",
    "\n",
    "test = one_hot_results[test_index]\n",
    "train = np.delete(one_hot_results, test_index, 0)\n",
    "\n",
    "\n",
    "label_test = product_onehot[test_index]\n",
    "label_train = np.delete(product_onehot, test_index, 0)\n",
    "\n",
    "print(\"Test label shape:\", np.shape(label_test))\n",
    "print(\"Train label shape:\", np.shape(label_train))\n",
    "print(\"Test shape:\", np.shape(test))\n",
    "print(\"Train shape:\", np.shape(train))"
   ]
  },
  {
   "cell_type": "markdown",
   "metadata": {},
   "source": [
    "## Building the network"
   ]
  },
  {
   "cell_type": "markdown",
   "metadata": {},
   "source": [
    "Let's build a fully connected (Dense) layer network with relu activations in Keras. You can do this using: `Dense(16, activation='relu')`."
   ]
  },
  {
   "cell_type": "markdown",
   "metadata": {},
   "source": [
    "In this examples, use 2 hidden with 50 units in the first layer and 25 in the second, both with a `relu` activation function. Because we are dealing with a multiclass problem (classifying the complaints into 7 ), we use a use a softmax classifyer in order to output 7 class probabilities per case.  \n",
    "\n",
    "The previous imports that you'll use here are:  \n",
    "\n",
    "```from keras import models\n",
    "from keras import layers```"
   ]
  },
  {
   "cell_type": "code",
   "execution_count": 14,
   "metadata": {
    "ExecuteTime": {
     "end_time": "2019-05-20T21:11:55.967138Z",
     "start_time": "2019-05-20T21:11:55.857411Z"
    }
   },
   "outputs": [],
   "source": [
    "#Your code here; initialize a sequential model with 3 layers; \n",
    "model = models.Sequential()\n",
    "model.add(layers.Dense(50, activation='relu', input_shape=(2000,)))\n",
    "model.add(layers.Dense(25, activation='relu'))\n",
    "model.add(layers.Dense(7, activation='softmax'))\n",
    "#two hidden relu and the final classification output using softmax"
   ]
  },
  {
   "cell_type": "markdown",
   "metadata": {},
   "source": [
    "## Compiling the model and look at the results\n",
    "\n",
    "Now, compile the model! This time, use `'categorical_crossentropy'` as the loss function and stochastic gradient descent, `'SGD'` as the optimizer. As in the previous lesson, include the accuracy as a metric."
   ]
  },
  {
   "cell_type": "code",
   "execution_count": 15,
   "metadata": {
    "ExecuteTime": {
     "end_time": "2019-05-20T21:13:10.279051Z",
     "start_time": "2019-05-20T21:13:10.109492Z"
    }
   },
   "outputs": [],
   "source": [
    "model.compile(optimizer='SGD',\n",
    "             loss='categorical_crossentropy',\n",
    "             metrics=['accuracy'])"
   ]
  },
  {
   "cell_type": "markdown",
   "metadata": {},
   "source": [
    "## Training the model\n",
    "\n",
    "In the compiler, you'll be passing the optimizer (SGD = stochastic gradient descent), loss function, and metrics. Train the model for 120 epochs in mini-batches of 256 samples."
   ]
  },
  {
   "cell_type": "code",
   "execution_count": 16,
   "metadata": {
    "ExecuteTime": {
     "end_time": "2019-05-20T21:20:55.007566Z",
     "start_time": "2019-05-20T21:14:51.829875Z"
    },
    "scrolled": false
   },
   "outputs": [
    {
     "name": "stdout",
     "output_type": "stream",
     "text": [
      "WARNING:tensorflow:From /Users/michaelmoravetz/anaconda3/envs/learn-env/lib/python3.6/site-packages/tensorflow/python/ops/math_ops.py:3066: to_int32 (from tensorflow.python.ops.math_ops) is deprecated and will be removed in a future version.\n",
      "Instructions for updating:\n",
      "Use tf.cast instead.\n",
      "Epoch 1/120\n",
      "58500/58500 [==============================] - 4s 73us/step - loss: 1.8652 - acc: 0.2294\n",
      "Epoch 2/120\n",
      "58500/58500 [==============================] - 3s 44us/step - loss: 1.5440 - acc: 0.4741\n",
      "Epoch 3/120\n",
      "58500/58500 [==============================] - 3s 54us/step - loss: 1.1840 - acc: 0.6264\n",
      "Epoch 4/120\n",
      "58500/58500 [==============================] - 3s 54us/step - loss: 0.9574 - acc: 0.6807\n",
      "Epoch 5/120\n",
      "58500/58500 [==============================] - 3s 53us/step - loss: 0.8295 - acc: 0.7095\n",
      "Epoch 6/120\n",
      "58500/58500 [==============================] - 4s 63us/step - loss: 0.7554 - acc: 0.7276\n",
      "Epoch 7/120\n",
      "58500/58500 [==============================] - 3s 58us/step - loss: 0.7071 - acc: 0.7422\n",
      "Epoch 8/120\n",
      "58500/58500 [==============================] - 3s 55us/step - loss: 0.6734 - acc: 0.7536\n",
      "Epoch 9/120\n",
      "58500/58500 [==============================] - 3s 52us/step - loss: 0.6477 - acc: 0.7627\n",
      "Epoch 10/120\n",
      "58500/58500 [==============================] - 3s 50us/step - loss: 0.6268 - acc: 0.7697\n",
      "Epoch 11/120\n",
      "58500/58500 [==============================] - 3s 49us/step - loss: 0.6094 - acc: 0.7767\n",
      "Epoch 12/120\n",
      "58500/58500 [==============================] - 3s 48us/step - loss: 0.5943 - acc: 0.7820\n",
      "Epoch 13/120\n",
      "58500/58500 [==============================] - 3s 49us/step - loss: 0.5812 - acc: 0.7865\n",
      "Epoch 14/120\n",
      "58500/58500 [==============================] - 3s 50us/step - loss: 0.5694 - acc: 0.7918\n",
      "Epoch 15/120\n",
      "58500/58500 [==============================] - 3s 49us/step - loss: 0.5587 - acc: 0.7953\n",
      "Epoch 16/120\n",
      "58500/58500 [==============================] - 3s 49us/step - loss: 0.5491 - acc: 0.7997\n",
      "Epoch 17/120\n",
      "58500/58500 [==============================] - 3s 50us/step - loss: 0.5404 - acc: 0.8034\n",
      "Epoch 18/120\n",
      "58500/58500 [==============================] - 3s 52us/step - loss: 0.5321 - acc: 0.8066\n",
      "Epoch 19/120\n",
      "58500/58500 [==============================] - 3s 52us/step - loss: 0.5244 - acc: 0.8101\n",
      "Epoch 20/120\n",
      "58500/58500 [==============================] - 3s 50us/step - loss: 0.5176 - acc: 0.8122\n",
      "Epoch 21/120\n",
      "58500/58500 [==============================] - 3s 49us/step - loss: 0.5111 - acc: 0.8149\n",
      "Epoch 22/120\n",
      "58500/58500 [==============================] - 3s 48us/step - loss: 0.5050 - acc: 0.8172\n",
      "Epoch 23/120\n",
      "58500/58500 [==============================] - 3s 50us/step - loss: 0.4992 - acc: 0.8193\n",
      "Epoch 24/120\n",
      "58500/58500 [==============================] - 3s 50us/step - loss: 0.4939 - acc: 0.8223\n",
      "Epoch 25/120\n",
      "58500/58500 [==============================] - 3s 49us/step - loss: 0.4888 - acc: 0.8234\n",
      "Epoch 26/120\n",
      "58500/58500 [==============================] - 3s 44us/step - loss: 0.4840 - acc: 0.8259\n",
      "Epoch 27/120\n",
      "58500/58500 [==============================] - 2s 37us/step - loss: 0.4793 - acc: 0.8285\n",
      "Epoch 28/120\n",
      "58500/58500 [==============================] - 2s 40us/step - loss: 0.4752 - acc: 0.8299\n",
      "Epoch 29/120\n",
      "58500/58500 [==============================] - 3s 53us/step - loss: 0.4711 - acc: 0.8313\n",
      "Epoch 30/120\n",
      "58500/58500 [==============================] - 3s 55us/step - loss: 0.4669 - acc: 0.8331\n",
      "Epoch 31/120\n",
      "58500/58500 [==============================] - 3s 59us/step - loss: 0.4633 - acc: 0.8346\n",
      "Epoch 32/120\n",
      "58500/58500 [==============================] - 4s 67us/step - loss: 0.4600 - acc: 0.8357\n",
      "Epoch 33/120\n",
      "58500/58500 [==============================] - 4s 75us/step - loss: 0.4565 - acc: 0.8374\n",
      "Epoch 34/120\n",
      "58500/58500 [==============================] - 3s 55us/step - loss: 0.4530 - acc: 0.8388\n",
      "Epoch 35/120\n",
      "58500/58500 [==============================] - 3s 53us/step - loss: 0.4501 - acc: 0.8399\n",
      "Epoch 36/120\n",
      "58500/58500 [==============================] - 3s 55us/step - loss: 0.4471 - acc: 0.8408\n",
      "Epoch 37/120\n",
      "58500/58500 [==============================] - 3s 52us/step - loss: 0.4439 - acc: 0.8423\n",
      "Epoch 38/120\n",
      "58500/58500 [==============================] - 3s 55us/step - loss: 0.4412 - acc: 0.8423\n",
      "Epoch 39/120\n",
      "58500/58500 [==============================] - 3s 52us/step - loss: 0.4384 - acc: 0.8436\n",
      "Epoch 40/120\n",
      "58500/58500 [==============================] - 3s 52us/step - loss: 0.4357 - acc: 0.8455\n",
      "Epoch 41/120\n",
      "58500/58500 [==============================] - 3s 52us/step - loss: 0.4334 - acc: 0.8457\n",
      "Epoch 42/120\n",
      "58500/58500 [==============================] - 3s 51us/step - loss: 0.4308 - acc: 0.8463\n",
      "Epoch 43/120\n",
      "58500/58500 [==============================] - 3s 51us/step - loss: 0.4282 - acc: 0.8476\n",
      "Epoch 44/120\n",
      "58500/58500 [==============================] - 3s 49us/step - loss: 0.4260 - acc: 0.8493\n",
      "Epoch 45/120\n",
      "58500/58500 [==============================] - 3s 43us/step - loss: 0.4236 - acc: 0.8494\n",
      "Epoch 46/120\n",
      "58500/58500 [==============================] - 3s 46us/step - loss: 0.4215 - acc: 0.8506\n",
      "Epoch 47/120\n",
      "58500/58500 [==============================] - 3s 52us/step - loss: 0.4194 - acc: 0.8511\n",
      "Epoch 48/120\n",
      "58500/58500 [==============================] - 3s 58us/step - loss: 0.4170 - acc: 0.8518\n",
      "Epoch 49/120\n",
      "58500/58500 [==============================] - 3s 58us/step - loss: 0.4149 - acc: 0.8527\n",
      "Epoch 50/120\n",
      "58500/58500 [==============================] - 3s 56us/step - loss: 0.4132 - acc: 0.8535\n",
      "Epoch 51/120\n",
      "58500/58500 [==============================] - 3s 50us/step - loss: 0.4113 - acc: 0.8541\n",
      "Epoch 52/120\n",
      "58500/58500 [==============================] - 3s 52us/step - loss: 0.4094 - acc: 0.8548\n",
      "Epoch 53/120\n",
      "58500/58500 [==============================] - 3s 52us/step - loss: 0.4076 - acc: 0.8554\n",
      "Epoch 54/120\n",
      "58500/58500 [==============================] - 3s 52us/step - loss: 0.4055 - acc: 0.8566\n",
      "Epoch 55/120\n",
      "58500/58500 [==============================] - 3s 51us/step - loss: 0.4038 - acc: 0.8563\n",
      "Epoch 56/120\n",
      "58500/58500 [==============================] - 3s 51us/step - loss: 0.4021 - acc: 0.8574\n",
      "Epoch 57/120\n",
      "58500/58500 [==============================] - 3s 53us/step - loss: 0.4003 - acc: 0.8588\n",
      "Epoch 58/120\n",
      "58500/58500 [==============================] - 3s 54us/step - loss: 0.3989 - acc: 0.8587\n",
      "Epoch 59/120\n",
      "58500/58500 [==============================] - 3s 53us/step - loss: 0.3972 - acc: 0.8594\n",
      "Epoch 60/120\n",
      "58500/58500 [==============================] - 3s 50us/step - loss: 0.3954 - acc: 0.8597\n",
      "Epoch 61/120\n",
      "58500/58500 [==============================] - 3s 51us/step - loss: 0.3941 - acc: 0.8606\n",
      "Epoch 62/120\n",
      "58500/58500 [==============================] - 3s 50us/step - loss: 0.3922 - acc: 0.8615\n",
      "Epoch 63/120\n",
      "58500/58500 [==============================] - 3s 51us/step - loss: 0.3908 - acc: 0.8608\n",
      "Epoch 64/120\n",
      "58500/58500 [==============================] - 3s 50us/step - loss: 0.3893 - acc: 0.8623\n",
      "Epoch 65/120\n",
      "58500/58500 [==============================] - 3s 51us/step - loss: 0.3879 - acc: 0.8622\n",
      "Epoch 66/120\n",
      "58500/58500 [==============================] - 3s 49us/step - loss: 0.3864 - acc: 0.8632\n",
      "Epoch 67/120\n",
      "58500/58500 [==============================] - 3s 48us/step - loss: 0.3850 - acc: 0.8639\n",
      "Epoch 68/120\n",
      "58500/58500 [==============================] - 3s 48us/step - loss: 0.3835 - acc: 0.8651\n",
      "Epoch 69/120\n",
      "58500/58500 [==============================] - 3s 44us/step - loss: 0.3822 - acc: 0.8642\n",
      "Epoch 70/120\n",
      "58500/58500 [==============================] - 3s 54us/step - loss: 0.3806 - acc: 0.8654\n",
      "Epoch 71/120\n",
      "58500/58500 [==============================] - 3s 54us/step - loss: 0.3794 - acc: 0.8656\n",
      "Epoch 72/120\n",
      "58500/58500 [==============================] - 3s 55us/step - loss: 0.3781 - acc: 0.8663\n",
      "Epoch 73/120\n",
      "58500/58500 [==============================] - 3s 59us/step - loss: 0.3768 - acc: 0.8662\n",
      "Epoch 74/120\n",
      "58500/58500 [==============================] - 4s 73us/step - loss: 0.3755 - acc: 0.8675\n",
      "Epoch 75/120\n",
      "58500/58500 [==============================] - 3s 58us/step - loss: 0.3741 - acc: 0.8679\n",
      "Epoch 76/120\n",
      "58500/58500 [==============================] - 3s 53us/step - loss: 0.3730 - acc: 0.8682\n",
      "Epoch 77/120\n",
      "58500/58500 [==============================] - 3s 53us/step - loss: 0.3718 - acc: 0.8685\n",
      "Epoch 78/120\n"
     ]
    },
    {
     "name": "stdout",
     "output_type": "stream",
     "text": [
      "58500/58500 [==============================] - 3s 53us/step - loss: 0.3705 - acc: 0.8694\n",
      "Epoch 79/120\n",
      "58500/58500 [==============================] - 3s 56us/step - loss: 0.3694 - acc: 0.8699\n",
      "Epoch 80/120\n",
      "58500/58500 [==============================] - 3s 51us/step - loss: 0.3680 - acc: 0.8701\n",
      "Epoch 81/120\n",
      "58500/58500 [==============================] - 3s 51us/step - loss: 0.3669 - acc: 0.8706\n",
      "Epoch 82/120\n",
      "58500/58500 [==============================] - 3s 49us/step - loss: 0.3658 - acc: 0.8709\n",
      "Epoch 83/120\n",
      "58500/58500 [==============================] - 3s 51us/step - loss: 0.3643 - acc: 0.8718\n",
      "Epoch 84/120\n",
      "58500/58500 [==============================] - 3s 50us/step - loss: 0.3635 - acc: 0.8721\n",
      "Epoch 85/120\n",
      "58500/58500 [==============================] - 3s 51us/step - loss: 0.3619 - acc: 0.8724\n",
      "Epoch 86/120\n",
      "58500/58500 [==============================] - 3s 50us/step - loss: 0.3610 - acc: 0.8732\n",
      "Epoch 87/120\n",
      "58500/58500 [==============================] - 3s 50us/step - loss: 0.3599 - acc: 0.8736\n",
      "Epoch 88/120\n",
      "58500/58500 [==============================] - 3s 48us/step - loss: 0.3588 - acc: 0.8739\n",
      "Epoch 89/120\n",
      "58500/58500 [==============================] - 3s 43us/step - loss: 0.3578 - acc: 0.8739\n",
      "Epoch 90/120\n",
      "58500/58500 [==============================] - 2s 38us/step - loss: 0.3567 - acc: 0.8744\n",
      "Epoch 91/120\n",
      "58500/58500 [==============================] - 2s 38us/step - loss: 0.3554 - acc: 0.8756\n",
      "Epoch 92/120\n",
      "58500/58500 [==============================] - 2s 38us/step - loss: 0.3542 - acc: 0.8754\n",
      "Epoch 93/120\n",
      "58500/58500 [==============================] - 2s 43us/step - loss: 0.3529 - acc: 0.8761\n",
      "Epoch 94/120\n",
      "58500/58500 [==============================] - 3s 51us/step - loss: 0.3519 - acc: 0.8772\n",
      "Epoch 95/120\n",
      "58500/58500 [==============================] - 3s 55us/step - loss: 0.3511 - acc: 0.8774\n",
      "Epoch 96/120\n",
      "58500/58500 [==============================] - 3s 52us/step - loss: 0.3500 - acc: 0.8774\n",
      "Epoch 97/120\n",
      "58500/58500 [==============================] - 3s 54us/step - loss: 0.3491 - acc: 0.8782\n",
      "Epoch 98/120\n",
      "58500/58500 [==============================] - 3s 52us/step - loss: 0.3476 - acc: 0.8782\n",
      "Epoch 99/120\n",
      "58500/58500 [==============================] - 3s 51us/step - loss: 0.3467 - acc: 0.8781\n",
      "Epoch 100/120\n",
      "58500/58500 [==============================] - 3s 53us/step - loss: 0.3458 - acc: 0.8790\n",
      "Epoch 101/120\n",
      "58500/58500 [==============================] - 3s 53us/step - loss: 0.3448 - acc: 0.8793\n",
      "Epoch 102/120\n",
      "58500/58500 [==============================] - 3s 52us/step - loss: 0.3436 - acc: 0.8799\n",
      "Epoch 103/120\n",
      "58500/58500 [==============================] - 3s 51us/step - loss: 0.3427 - acc: 0.8805\n",
      "Epoch 104/120\n",
      "58500/58500 [==============================] - 3s 52us/step - loss: 0.3412 - acc: 0.8802\n",
      "Epoch 105/120\n",
      "58500/58500 [==============================] - 3s 50us/step - loss: 0.3408 - acc: 0.8810\n",
      "Epoch 106/120\n",
      "58500/58500 [==============================] - 3s 55us/step - loss: 0.3393 - acc: 0.8808\n",
      "Epoch 107/120\n",
      "58500/58500 [==============================] - 3s 46us/step - loss: 0.3383 - acc: 0.8816\n",
      "Epoch 108/120\n",
      "58500/58500 [==============================] - 3s 48us/step - loss: 0.3370 - acc: 0.8831\n",
      "Epoch 109/120\n",
      "58500/58500 [==============================] - 3s 51us/step - loss: 0.3361 - acc: 0.8822\n",
      "Epoch 110/120\n",
      "58500/58500 [==============================] - 3s 50us/step - loss: 0.3354 - acc: 0.8831\n",
      "Epoch 111/120\n",
      "58500/58500 [==============================] - 3s 51us/step - loss: 0.3341 - acc: 0.8832\n",
      "Epoch 112/120\n",
      "58500/58500 [==============================] - 3s 50us/step - loss: 0.3332 - acc: 0.8836\n",
      "Epoch 113/120\n",
      "58500/58500 [==============================] - 3s 49us/step - loss: 0.3326 - acc: 0.8841\n",
      "Epoch 114/120\n",
      "58500/58500 [==============================] - 3s 43us/step - loss: 0.3310 - acc: 0.8852\n",
      "Epoch 115/120\n",
      "58500/58500 [==============================] - 2s 43us/step - loss: 0.3306 - acc: 0.8854\n",
      "Epoch 116/120\n",
      "58500/58500 [==============================] - 3s 45us/step - loss: 0.3293 - acc: 0.8857\n",
      "Epoch 117/120\n",
      "58500/58500 [==============================] - 3s 57us/step - loss: 0.3279 - acc: 0.8858\n",
      "Epoch 118/120\n",
      "58500/58500 [==============================] - 3s 57us/step - loss: 0.3274 - acc: 0.8857\n",
      "Epoch 119/120\n",
      "58500/58500 [==============================] - 4s 60us/step - loss: 0.3260 - acc: 0.8864\n",
      "Epoch 120/120\n",
      "58500/58500 [==============================] - 3s 60us/step - loss: 0.3250 - acc: 0.8879\n"
     ]
    }
   ],
   "source": [
    "history = model.fit(train,\n",
    "                   label_train,\n",
    "                   epochs=120,\n",
    "                   batch_size=256)"
   ]
  },
  {
   "cell_type": "markdown",
   "metadata": {},
   "source": [
    "Recall that the dictionary `history` has two entries: the loss and the accuracy achieved using the training set."
   ]
  },
  {
   "cell_type": "code",
   "execution_count": 17,
   "metadata": {
    "ExecuteTime": {
     "end_time": "2019-05-20T21:21:36.241598Z",
     "start_time": "2019-05-20T21:21:36.208513Z"
    }
   },
   "outputs": [
    {
     "data": {
      "text/plain": [
       "dict_keys(['loss', 'acc'])"
      ]
     },
     "execution_count": 17,
     "metadata": {},
     "output_type": "execute_result"
    }
   ],
   "source": [
    "history_dict = history.history\n",
    "history_dict.keys()"
   ]
  },
  {
   "cell_type": "markdown",
   "metadata": {},
   "source": [
    "## Plot the results\n",
    "\n",
    "As you might expect, we'll use our ```import matplotlib.pyplot as plt``` for graphing. Use the data stored in the history_dict above to plot the loss vs epochs and the accurcay vs epochs."
   ]
  },
  {
   "cell_type": "code",
   "execution_count": 18,
   "metadata": {
    "ExecuteTime": {
     "end_time": "2019-05-20T21:25:23.240880Z",
     "start_time": "2019-05-20T21:25:22.263010Z"
    }
   },
   "outputs": [
    {
     "data": {
      "image/png": "[encoded data removed]",
      "text/plain": [
       "<Figure size 800x550 with 1 Axes>"
      ]
     },
     "metadata": {},
     "output_type": "display_data"
    }
   ],
   "source": [
    "#Your code here; plot the loss vs the number of epoch\n",
    "loss_values = history_dict['loss']\n",
    "\n",
    "epochs = range(1, len(loss_values) + 1)\n",
    "plt.plot(epochs, loss_values, 'g', label='Training Loss')\n",
    "\n",
    "plt.title('Training Loss')\n",
    "plt.xlabel('Epochs')\n",
    "plt.ylabel('Loss')\n",
    "plt.legend()\n",
    "plt.show()"
   ]
  },
  {
   "cell_type": "code",
   "execution_count": 19,
   "metadata": {
    "ExecuteTime": {
     "end_time": "2019-05-20T21:27:02.768434Z",
     "start_time": "2019-05-20T21:27:01.549666Z"
    }
   },
   "outputs": [
    {
     "data": {
      "image/png": "[encoded data removed]",
      "text/plain": [
       "<Figure size 800x550 with 1 Axes>"
      ]
     },
     "metadata": {},
     "output_type": "display_data"
    }
   ],
   "source": [
    "#Your code here; plot the training accuracy vs the number of epochs\n",
    "acc = history_dict['acc']\n",
    "plt.plot(epochs, acc, 'g', label='Training Accuracy')\n",
    "\n",
    "plt.title('Training Accuracy')\n",
    "plt.xlabel('Epochs')\n",
    "plt.ylabel('Accuracy')\n",
    "plt.legend()\n",
    "plt.show()"
   ]
  },
  {
   "cell_type": "markdown",
   "metadata": {},
   "source": [
    "It seems like we could just keep on going and accuracy would go up!"
   ]
  },
  {
   "cell_type": "markdown",
   "metadata": {},
   "source": [
    "## Make predictions\n",
    "\n",
    "Finally, it's time to output. Use the method discussed in the previous lesson to output (probability) predictions for the test set."
   ]
  },
  {
   "cell_type": "code",
   "execution_count": 20,
   "metadata": {
    "ExecuteTime": {
     "end_time": "2019-05-20T21:28:04.054627Z",
     "start_time": "2019-05-20T21:28:03.721142Z"
    }
   },
   "outputs": [],
   "source": [
    "y_hat_test = model.predict(test)"
   ]
  },
  {
   "cell_type": "markdown",
   "metadata": {},
   "source": [
    "## Evaluate Performance\n",
    "\n",
    "Finally, print the loss and accuracy for both the train and test sets of the final trained model."
   ]
  },
  {
   "cell_type": "code",
   "execution_count": 22,
   "metadata": {
    "ExecuteTime": {
     "end_time": "2019-05-20T21:29:19.281965Z",
     "start_time": "2019-05-20T21:29:12.944751Z"
    }
   },
   "outputs": [
    {
     "name": "stdout",
     "output_type": "stream",
     "text": [
      "58500/58500 [==============================] - 6s 108us/step\n"
     ]
    },
    {
     "data": {
      "text/plain": [
       "[0.31937818947116026, 0.8901196581196581]"
      ]
     },
     "execution_count": 22,
     "metadata": {},
     "output_type": "execute_result"
    }
   ],
   "source": [
    "results_train = model.evaluate(train, label_train)\n",
    "results_train"
   ]
  },
  {
   "cell_type": "code",
   "execution_count": 23,
   "metadata": {
    "ExecuteTime": {
     "end_time": "2019-05-20T21:29:56.507586Z",
     "start_time": "2019-05-20T21:29:56.350764Z"
    }
   },
   "outputs": [
    {
     "name": "stdout",
     "output_type": "stream",
     "text": [
      "1500/1500 [==============================] - 0s 94us/step\n"
     ]
    },
    {
     "data": {
      "text/plain": [
       "[0.23132759032646816, 0.9339999998410543]"
      ]
     },
     "execution_count": 23,
     "metadata": {},
     "output_type": "execute_result"
    }
   ],
   "source": [
    "results_test = model.evaluate(test, label_test)\n",
    "results_test"
   ]
  },
  {
   "cell_type": "markdown",
   "metadata": {},
   "source": [
    "We can see that the training set results are really good (a 89.4% classification accuracy!), but the test set results lag behind. In the next lab. We'll talk a little more about this in the next lecture, and will discuss how we can get better test set results as well!"
   ]
  },
  {
   "cell_type": "markdown",
   "metadata": {},
   "source": [
    "## Additional Resources"
   ]
  },
  {
   "cell_type": "markdown",
   "metadata": {},
   "source": [
    "https://github.com/susanli2016/Machine-Learning-with-Python/blob/master/Consumer_complaints.ipynb"
   ]
  },
  {
   "cell_type": "markdown",
   "metadata": {},
   "source": [
    "https://catalog.data.gov/dataset/consumer-complaint-database"
   ]
  },
  {
   "cell_type": "markdown",
   "metadata": {},
   "source": [
    "## Summary \n",
    "\n",
    "Congratulations! In this lab, you built a neural network with much less production time thanks to the tools provided by Keras! In upcoming lessons and labs we'll continue to investigate further ideas regarding how to tune and refine these models for increased accuracy and performance."
   ]
  }
 ],
 "metadata": {
  "kernelspec": {
   "display_name": "learn-env",
   "language": "python",
   "name": "learn-env"
  },
  "language_info": {
   "codemirror_mode": {
    "name": "ipython",
    "version": 3
   },
   "file_extension": ".py",
   "mimetype": "text/x-python",
   "name": "python",
   "nbconvert_exporter": "python",
   "pygments_lexer": "ipython3",
   "version": "3.6.6"
  },
  "toc": {
   "base_numbering": 1,
   "nav_menu": {},
   "number_sections": true,
   "sideBar": true,
   "skip_h1_title": false,
   "title_cell": "Table of Contents",
   "title_sidebar": "Contents",
   "toc_cell": false,
   "toc_position": {},
   "toc_section_display": true,
   "toc_window_display": false
  },
  "varInspector": {
   "cols": {
    "lenName": 16,
    "lenType": 16,
    "lenVar": 40
   },
   "kernels_config": {
    "python": {
     "delete_cmd_postfix": "",
     "delete_cmd_prefix": "del ",
     "library": "var_list.py",
     "varRefreshCmd": "print(var_dic_list())"
    },
    "r": {
     "delete_cmd_postfix": ") ",
     "delete_cmd_prefix": "rm(",
     "library": "var_list.r",
     "varRefreshCmd": "cat(var_dic_list()) "
    }
   },
   "types_to_exclude": [
    "module",
    "function",
    "builtin_function_or_method",
    "instance",
    "_Feature"
   ],
   "window_display": false
  }
 },
 "nbformat": 4,
 "nbformat_minor": 2
}
